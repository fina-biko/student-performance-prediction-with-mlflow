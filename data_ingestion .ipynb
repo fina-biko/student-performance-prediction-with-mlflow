{
 "cells": [
  {
   "cell_type": "code",
   "execution_count": 1,
   "metadata": {},
   "outputs": [],
   "source": [
    "from src.mlproject.constants import CONFIG_PATH_YAML\n",
    "from src.mlproject.entity.config_entity import DataIngestionConfig\n",
    "from src.mlproject.utils.common import read_yaml,create_directories\n",
    "import os\n",
    "\n",
    "\n",
    "class ConfigurationManager:\n",
    "    def __init__(self,config_filepath=CONFIG_PATH_YAML) :#inner folder,pathto csv,datastore\n",
    "        self.config_data=read_yaml(config_filepath)\n",
    "         #Retrieve the parent folder \n",
    "        self.parent_folder =self.config_data.get('parent_folder', '')\n",
    "        #and create the folder 'artifacts_root'\n",
    "        create_directories([self.parent_folder.get('artifacts_root')])\n",
    "\n",
    "\n",
    "\n",
    "        #Retrieve data ingestion \n",
    "        self.data_ingestion = self.config_data.get('data_ingestion', '')\n",
    "\n",
    "        #and create folders within the data ingestion\n",
    "        create_directories([self.data_ingestion.get('inner_folder', '')]) \n",
    "\n",
    "        #create or join the file to the folder\n",
    "        filepath=os.path.join(self.data_ingestion.get('inner_folder', ''),self.data_ingestion.get('data_store', ''))\n",
    "         #self.data_ingestion.get('data_store', '')\n",
    "    '''\n",
    "    def get_data_ingestion_config(self)-> DataIngestionConfig:\n",
    "        data_ingestion_config=DataIngestionConfig(\n",
    "            findData=self.data_ingestion.path_to_csv,\n",
    "            innerfolder=self.data_ingestion.innerfolder,\n",
    "            datastore=self.data_ingestion.data_store )\n",
    "        return  data_ingestion_config   '''\n",
    "    \n",
    "    def get_data_ingestion_config(self) -> DataIngestionConfig:\n",
    "        data_ingestion_config = DataIngestionConfig(\n",
    "            findData=self.data_ingestion.get('path_to_csv', ''),\n",
    "            innerfolder=self.data_ingestion.get('inner_folder', ''),\n",
    "            datastore=self.data_ingestion.get('data_store', '')\n",
    "        )\n",
    "        return data_ingestion_config        \n",
    "\n",
    "\n",
    "        \n",
    "    \n",
    "        \n",
    "   "
   ]
  },
  {
   "cell_type": "markdown",
   "metadata": {},
   "source": []
  },
  {
   "cell_type": "code",
   "execution_count": 2,
   "metadata": {},
   "outputs": [],
   "source": [
    "#data Ingestion component\n",
    "\n",
    "import pandas as pd\n",
    "\n",
    "class DataIngestion:\n",
    "    def __init__(self,config:DataIngestionConfig) :\n",
    "        self.config=config\n",
    "\n",
    "    def reading_csv(self):\n",
    "        dataframe=pd.read_csv(self.config.findData)\n",
    "        # Store the DataFrame in the specified datastore path\n",
    "        #dataframe.to_csv(self.config.datastore,index=False,header=True)\n",
    "        with open(self.config.datastore,'w') as csv_file:\n",
    "           dataframe.to_csv(csv_file, index=False)\n",
    "       \n"
   ]
  },
  {
   "cell_type": "code",
   "execution_count": 3,
   "metadata": {},
   "outputs": [],
   "source": [
    "#pipeline\n",
    "\n",
    "class DataIngestionPipeline:\n",
    "    def __init__(self) -> None:\n",
    "        pass\n",
    "    def main(self):\n",
    "        data_injestion_config=ConfigurationManager()\n",
    "        ingestion=data_injestion_config.get_data_ingestion_config()\n",
    "        data=DataIngestion(ingestion)\n",
    "    \n",
    "        data.reading_csv()\n",
    "        \n",
    "\n",
    "if __name__=='__main__':\n",
    "    obj=DataIngestionPipeline()\n",
    "    obj.main()\n",
    "\n",
    "\n"
   ]
  },
  {
   "cell_type": "markdown",
   "metadata": {},
   "source": [
    "#main.py\n"
   ]
  },
  {
   "cell_type": "code",
   "execution_count": null,
   "metadata": {},
   "outputs": [],
   "source": []
  }
 ],
 "metadata": {
  "kernelspec": {
   "display_name": "mlproj",
   "language": "python",
   "name": "python3"
  },
  "language_info": {
   "codemirror_mode": {
    "name": "ipython",
    "version": 3
   },
   "file_extension": ".py",
   "mimetype": "text/x-python",
   "name": "python",
   "nbconvert_exporter": "python",
   "pygments_lexer": "ipython3",
   "version": "3.11.7"
  }
 },
 "nbformat": 4,
 "nbformat_minor": 2
}
