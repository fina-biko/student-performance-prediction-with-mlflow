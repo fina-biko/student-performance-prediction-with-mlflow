{
 "cells": [
  {
   "cell_type": "code",
   "execution_count": null,
   "metadata": {},
   "outputs": [],
   "source": [
    "#data transformation\n",
    "'''samsum dataset has train test and validation folders'''\n",
    "import os\n",
    "all_files=os.listdir(os.path.join('artifacts','data_ingestion','samsung_dataset'))\n",
    "for file in all_files:\n",
    "    if file not in ['train','test','validation']:#not in any folder\n",
    "        pass\n"
   ]
  }
 ],
 "metadata": {
  "language_info": {
   "name": "python"
  }
 },
 "nbformat": 4,
 "nbformat_minor": 2
}
